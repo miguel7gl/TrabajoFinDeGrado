{
 "cells": [
  {
   "cell_type": "markdown",
   "metadata": {},
   "source": [
    "# Lectura de datos real"
   ]
  },
  {
   "cell_type": "code",
   "execution_count": null,
   "metadata": {},
   "outputs": [],
   "source": [
    "#Importamos libreria\n",
    "import pandas as pd\n",
    "\n",
    "#Leemos el csv\n",
    "datos=pd.read_csv('Medidasprueba3.csv', sep=';')\n",
    "datos"
   ]
  },
  {
   "cell_type": "code",
   "execution_count": null,
   "metadata": {},
   "outputs": [],
   "source": [
    "#Importamos librería datetime\n",
    "import datetime"
   ]
  },
  {
   "cell_type": "code",
   "execution_count": null,
   "metadata": {},
   "outputs": [],
   "source": [
    "consumos_list = datos['Consumo (kwh)'] \n",
    "\n",
    "\n",
    "#list(consumos_list)"
   ]
  },
  {
   "cell_type": "code",
   "execution_count": null,
   "metadata": {},
   "outputs": [],
   "source": [
    "#Aqui transformamos las medidas que obtenemos de la curva de carga (formato de string) a formato float\n",
    "#y los almacenamos en una lista\n",
    "\n",
    "#Lista que almacena los valores\n",
    "consumos_num=[]\n",
    "\n",
    "#Bucle\n",
    "for valor in consumos_list:\n",
    "    \n",
    "    #Reemplazo la coma por un punto\n",
    "    #valor = valor.replace(',', '.')\n",
    "    \n",
    "    #Convierto el string a float\n",
    "    valor_num = float(valor)\n",
    "    \n",
    "    #Inserto el float en la lista\n",
    "    consumos_num.append(valor_num)\n",
    "\n",
    "#Compruebo que está creada correctamente\n",
    "#print(consumos_num)"
   ]
  },
  {
   "cell_type": "code",
   "execution_count": null,
   "metadata": {},
   "outputs": [],
   "source": [
    "#Importamos librerias\n",
    "import numpy as np\n",
    "import matplotlib.pyplot as plt\n",
    "from sklearn.linear_model import LinearRegression"
   ]
  },
  {
   "cell_type": "code",
   "execution_count": null,
   "metadata": {},
   "outputs": [],
   "source": [
    "#Creo el vector de tiempos para la gráfica y compruebo que está bien\n",
    "if datos['Hora de la lectura'][2][0:1]!=datos['Hora de la lectura'][3][0:1]:  #No es verdad, en el cambio de hora nunca se cumple\n",
    "    #print(\"Cuartohoraria\")\n",
    "    y=list(np.arange(1,25,0.25))\n",
    "    y=list(np.arange(1,35041,1))\n",
    "else:\n",
    "    #print (\"No cuartohoraria\")\n",
    "    y=list(range(1, 25))\n",
    "#print(y)\n",
    "\n",
    "# Visualizamos la curva de carga\n",
    "plt.figure(figsize=(15,4))  # Ancho x Alto en pulgadas\n",
    "plt.plot(y,consumos_num, label=\"Curva de carga\")\n",
    "plt.xlabel(\"Tiempo (horas)\")\n",
    "#plt.xticks(y)\n",
    "plt.xlim([1,35041])\n",
    "plt.ylabel(\"Consumo (kWh)\")\n",
    "#plt.yticks(np.arange(0,1.05,0.1))\n",
    "plt.legend()\n",
    "plt.grid()\n",
    "plt.title(\"Curva de carga diaria\")\n",
    "plt.show()"
   ]
  },
  {
   "cell_type": "code",
   "execution_count": null,
   "metadata": {},
   "outputs": [],
   "source": [
    "import datetime\n",
    "import locale  #Para que de el día en español\n",
    "\n",
    "# Configurar el idioma a español\n",
    "locale.setlocale(locale.LC_TIME, 'es_ES')\n",
    "\n",
    "# Crear un objeto de fecha para el 1 de octubre de 2017\n",
    "fecha = datetime.date(2018, 1, 1)\n",
    "\n",
    "# Obtener el nombre del día de la semana\n",
    "nombre_del_dia = fecha.strftime('%A')\n",
    "\n",
    "print(nombre_del_dia)\n",
    "type(nombre_del_dia)\n",
    "#print(f\"El 1 de octubre de 2017 fue un {nombre_del_dia}.\")"
   ]
  },
  {
   "cell_type": "code",
   "execution_count": null,
   "metadata": {},
   "outputs": [],
   "source": [
    "#Código para recorrer toda la tabla, crear un vector con los días de la semana, meses y año, y ponerlo en la tabla\n",
    "fechas_list = datos['Fecha de la lectura']\n",
    "\n",
    "type(fechas_list)\n",
    "\n",
    "dias_semana = []\n",
    "meses = []\n",
    "anos = []\n",
    "\n",
    "for fecha in fechas_list:\n",
    "    dia = int(fecha[0:2])\n",
    "    mes = int(fecha[3:5])\n",
    "    ano = int(fecha[6:10])\n",
    "    fecha = datetime.date(ano,mes,dia)\n",
    "    nombre_dia = fecha.strftime('%A')\n",
    "    #print(nombre_dia)\n",
    "    dias_semana.append(nombre_dia)\n",
    "    meses.append(mes)\n",
    "    anos.append(ano)"
   ]
  },
  {
   "cell_type": "code",
   "execution_count": null,
   "metadata": {},
   "outputs": [],
   "source": [
    "#Código para recorrer toda la tabla, crear un vector con las horas y los minutos, y ponerlo en la tabla\n",
    "horas_list = datos['Hora de la lectura']\n",
    "\n",
    "horas = []\n",
    "minutos = []\n",
    "\n",
    "for hora in horas_list:\n",
    "    h = hora[0:2]\n",
    "    m = hora[2:5]\n",
    "    \n",
    "    if h[1]==\":\":  #Eliminamos los 2 puntos cuando la hora es de 2 cifras\n",
    "        h = hora[0:1]\n",
    "    \n",
    "    if m[0]==\":\":  #Eliminamos los 2 puntos cuando la hora es de 2 cifras\n",
    "        m = hora[3:5]\n",
    "    if m==\"00\": #En el caso que la hora sea en punto, pasamos a 45 min\n",
    "        m = \"45\"\n",
    "        if h==\"0\":  #Si es hora 0, pasamos a las 23h\n",
    "            h = \"23\"\n",
    "        else:  #Resto de casos en los que la hora no es 0, restamos 1h\n",
    "            h = str(int(h)-1)\n",
    "    else:  #En el caso de que la hora no sea en punto, restamos 15 minutos\n",
    "        m = str(int(m)-15)\n",
    "            \n",
    "    #print(m)\n",
    "    \n",
    "    horas.append(h)\n",
    "    #print(type(m))\n",
    "    minutos.append(m)\n",
    "    #print(h+\"--\"+m)\n",
    "    #print(h[1])\n",
    "#print(len(meses))\n",
    "#print(type(meses[1]))"
   ]
  },
  {
   "cell_type": "code",
   "execution_count": null,
   "metadata": {},
   "outputs": [],
   "source": [
    "# Insertar la nueva columna en una ubicación específica, en este caso después de la columna 'A'\n",
    "#datos.insert(loc=4, column='Dia de la semana', value=dias_semana)\n",
    "\n",
    "#pd.set_option('display.max_rows', None)  # Mostrar todas las filas\n",
    "datos[\"Hora inicio\"]=horas\n",
    "datos[\"Minutos inicio\"]=minutos\n",
    "datos[\"Dia de la semana\"]=dias_semana\n",
    "datos[\"Mes\"]=meses\n",
    "datos[\"Año\"]=anos\n",
    "\n",
    "# Imprimir el DataFrame resultante\n",
    "datos"
   ]
  },
  {
   "cell_type": "code",
   "execution_count": null,
   "metadata": {},
   "outputs": [],
   "source": [
    "#Importo una tabla con todos los periodos\n",
    "periodos=pd.read_csv('Periodos.csv', sep=';',encoding='iso-8859-1')\n",
    "periodos"
   ]
  },
  {
   "cell_type": "code",
   "execution_count": null,
   "metadata": {},
   "outputs": [],
   "source": [
    "#Esto lo hago para crear un vector de los periodos y agregarlo a la tabla\n",
    "import calendar\n",
    "\n",
    "#Necesito la hora, día de la semana y mes\n",
    "horas_list = datos['Hora inicio']\n",
    "dias_list = datos['Dia de la semana']\n",
    "meses_list = datos['Mes']\n",
    "\n",
    "#enero, febrero, julio y diciembre\n",
    "#marzo y noviembre\n",
    "#abril, mayo y octubre\n",
    "#junio, agosto y septiembre\n",
    "\n",
    "periodos_list = []\n",
    "\n",
    "for i in range(len(datos)):\n",
    "    if dias_list[i]==\"sábado\" or dias_list[i]==\"domingo\": #Fines de semana (faltan agregar los festivos)\n",
    "        #print(horas_list[i]+\"-\"+dias_list[i]+\" = P6\")\n",
    "        periodos_list.append(\"P6\")\n",
    "    else:  #El resto de dias\n",
    "        nombre_mes = calendar.month_name[meses_list[i]].capitalize()\n",
    "        #print(horas_list[i]+\"-\"+dias_list[i]+\" = \"+periodos.loc[int(horas_list[i]), calendar.month_name[meses_list[i]].capitalize()])\n",
    "        periodos_list.append(periodos.loc[int(horas_list[i]), calendar.month_name[meses_list[i]].capitalize()])\n",
    "        "
   ]
  },
  {
   "cell_type": "code",
   "execution_count": null,
   "metadata": {},
   "outputs": [],
   "source": [
    "#Coloco el vector de periodos en la tabla\n",
    "datos[\"Periodo\"]=periodos_list\n",
    "\n",
    "# Imprimir el DataFrame resultante\n",
    "datos"
   ]
  },
  {
   "cell_type": "code",
   "execution_count": null,
   "metadata": {},
   "outputs": [],
   "source": []
  },
  {
   "cell_type": "code",
   "execution_count": null,
   "metadata": {},
   "outputs": [],
   "source": [
    "import pandas as pd\n",
    "\n",
    "#Importo una tabla con todas las tarifas\n",
    "tarifas=pd.read_csv('Tarifas.csv', sep=';',encoding='iso-8859-1')\n",
    "tarifas"
   ]
  },
  {
   "cell_type": "code",
   "execution_count": null,
   "metadata": {},
   "outputs": [],
   "source": [
    "#Creo listas donde almaceno los valores de precios de cada una de las tarifas\n",
    "\n",
    "tarifa2_0 = tarifas.loc[0][1:]\n",
    "tarifa3_0 = tarifas.loc[1][1:]\n",
    "tarifa6_1 = []\n",
    "\n",
    "for i in tarifas.loc[2][1:]:\n",
    "    tarifa6_1.append(float(i.replace(\",\",\".\")))\n",
    "\n",
    "tarifa6_2 = tarifas.loc[3][1:]\n",
    "tarifa6_3 = tarifas.loc[4][1:]\n",
    "tarifa6_4 = tarifas.loc[5][1:]\n",
    "type(tarifa6_1[0])"
   ]
  },
  {
   "cell_type": "code",
   "execution_count": null,
   "metadata": {},
   "outputs": [],
   "source": [
    "import sympy as sp\n",
    "\n",
    "# Definir símbolos\n",
    "x = sp.symbols('x')\n",
    "\n",
    "# Definir la ecuación\n",
    "ecuacion = x**2 - 4\n",
    "\n",
    "# Resolver la ecuación\n",
    "soluciones = sp.solve(ecuacion, x)\n",
    "\n",
    "print(\"Soluciones:\")\n",
    "for solucion in soluciones:\n",
    "    print(solucion)\n"
   ]
  },
  {
   "cell_type": "code",
   "execution_count": null,
   "metadata": {},
   "outputs": [],
   "source": []
  },
  {
   "cell_type": "code",
   "execution_count": null,
   "metadata": {},
   "outputs": [],
   "source": [
    "pip install pulp"
   ]
  },
  {
   "cell_type": "code",
   "execution_count": null,
   "metadata": {},
   "outputs": [],
   "source": [
    "import pulp\n",
    "\n",
    "# Crear un problema lineal\n",
    "problema = pulp.LpProblem(\"MiProblema\", pulp.LpMinimize)  # Maximización\n",
    "\n",
    "# Variables de decisión\n",
    "x = pulp.LpVariable('x', lowBound=0)  # x es una variable no negativa\n",
    "y = pulp.LpVariable('y', lowBound=0)  # y es una variable no negativa\n",
    "\n",
    "# Función objetivo\n",
    "problema += 3*x + 2*y  # Maximizar 3x + 2y\n",
    "\n",
    "# Restricciones\n",
    "problema += 2*x + y <= 8\n",
    "problema += x + 2*y <= 6\n",
    "\n",
    "# Resolver el problema\n",
    "problema.solve()\n",
    "\n",
    "# Mostrar resultados\n",
    "print(\"Estado:\", pulp.LpStatus[problema.status])\n",
    "print(\"x =\", x.varValue)\n",
    "print(\"y =\", y.varValue)\n",
    "print(\"Valor óptimo =\", pulp.value(problema.objective))"
   ]
  },
  {
   "cell_type": "code",
   "execution_count": null,
   "metadata": {},
   "outputs": [],
   "source": []
  },
  {
   "cell_type": "code",
   "execution_count": null,
   "metadata": {},
   "outputs": [],
   "source": [
    "len(tarifa6_1)"
   ]
  },
  {
   "cell_type": "code",
   "execution_count": null,
   "metadata": {},
   "outputs": [],
   "source": [
    "resultado = 0\n",
    "for i in tarifa6_1:\n",
    "    resultado += tarifa6_1[0] * p+str(i)\n",
    "print(resultado)"
   ]
  },
  {
   "cell_type": "code",
   "execution_count": null,
   "metadata": {},
   "outputs": [],
   "source": [
    "#Prueba de optimizar la primera parte\n",
    "import numpy as np\n",
    "from scipy.optimize import minimize\n",
    "\n",
    "# Definir una función objetivo que corresponde a la expresión matemática\n",
    "def funcion_objetivo(variables):\n",
    "    p1, p2, p3, p4, p5, p6 = variables    \n",
    "    resultado = tarifa6_1[0]*p1+tarifa6_1[1]*p2+tarifa6_1[2]*p3+tarifa6_1[3]*p4+tarifa6_1[4]*p5+tarifa6_1[5]*p6\n",
    "    return resultado\n",
    "\n",
    "# Condiciones iniciales\n",
    "potencias_contratadas = [1.0, 2.0, 3.0, 4.0, 5.0, 6.0]\n",
    "\n",
    "# Resolver el problema de optimización no lineal\n",
    "resultado = minimize(funcion_objetivo, potencias_contratadas, method='BFGS')\n",
    "\n",
    "# Mostrar resultados\n",
    "print(\"Estado:\", resultado.success)\n",
    "print(\"Mensaje:\", resultado.message)\n",
    "print(\"Valor óptimo:\", resultado.fun)\n",
    "print(\"Solución:\", resultado.x)\n"
   ]
  },
  {
   "cell_type": "code",
   "execution_count": null,
   "metadata": {
    "scrolled": false
   },
   "outputs": [],
   "source": [
    "#PARECE QUE FUNCIONA, OPTIMIZACION DE LA POTENCIA CONTRATADA SOLO DE LA PRIMERA PARTE\n",
    "\n",
    "import numpy as np\n",
    "from scipy.optimize import minimize\n",
    "import matplotlib.pyplot as plt\n",
    "\n",
    "# Inicialización de valores iniciales para p\n",
    "p_inicial = [164, 164, 164, 164, 164, 451]\n",
    "\n",
    "# Definir la función objetivo\n",
    "def funcion_objetivo(p):\n",
    "    return sum(tarifa6_1[i] * p[i] for i in range(len(p)))\n",
    "\n",
    "# Restricciones: p_i >= 0 para cada i\n",
    "restricciones = [\n",
    "    {'type': 'ineq', 'fun': lambda p: p[0]},  #Potencias contratadas mayores que 0\n",
    "    {'type': 'ineq', 'fun': lambda p: p[1]},\n",
    "    {'type': 'ineq', 'fun': lambda p: p[2]},\n",
    "    {'type': 'ineq', 'fun': lambda p: p[3]},\n",
    "    {'type': 'ineq', 'fun': lambda p: p[4]},\n",
    "    {'type': 'ineq', 'fun': lambda p: p[5]},\n",
    "    {'type': 'ineq', 'fun': lambda p: p[0] - p[1]},  #P1<=P2<=P3<=P4<=P5<=P6\n",
    "    {'type': 'ineq', 'fun': lambda p: p[1] - p[2]},\n",
    "    {'type': 'ineq', 'fun': lambda p: p[2] - p[3]},\n",
    "    {'type': 'ineq', 'fun': lambda p: p[3] - p[4]},\n",
    "    {'type': 'ineq', 'fun': lambda p: p[4] - p[5]}\n",
    "]\n",
    "\n",
    "# Resolver el problema de optimización con restricciones\n",
    "resultado = minimize(funcion_objetivo, p_inicial, constraints=restricciones, method='SLSQP')\n",
    "\n",
    "# Mostrar resultados\n",
    "if resultado.success:\n",
    "    valor_optimo = resultado.fun\n",
    "    p_optimo = resultado.x\n",
    "\n",
    "    # Crear un gráfico de barras\n",
    "    plt.figure(figsize=(8, 6))\n",
    "    plt.bar(range(len(p_optimo)), p_optimo, tick_label=[f'p{i+1}' for i in range(len(p_optimo))], alpha=0.7)\n",
    "    plt.xlabel(\"Componente de p\")\n",
    "    plt.ylabel(\"Valor óptimo de p\")\n",
    "    plt.title(f\"Optimización de tarifa: Valor óptimo = {valor_optimo}\")\n",
    "\n",
    "    # Mostrar la figura\n",
    "    plt.show()\n",
    "    \n",
    "    print(\"Estado:\", resultado.success)\n",
    "    print(\"Mensaje:\", resultado.message)\n",
    "    print(\"Valor óptimo:\", resultado.fun)\n",
    "    print(\"Solución:\", resultado.x)\n",
    "else:\n",
    "    print(\"No se pudo encontrar una solución óptima.\")\n"
   ]
  },
  {
   "cell_type": "code",
   "execution_count": null,
   "metadata": {},
   "outputs": [],
   "source": [
    "#Tengo que pillar toda la columna de consumos y agrupar cada uno de los periodos\n",
    "consumos_list = datos['Consumo (kwh)']\n",
    "periodos_list = datos['Periodo']\n",
    "print(len(consumos_list))\n",
    "\n",
    "periodo_consumo_dic = {}\n",
    "for i in range(len(consumos_list)):\n",
    "    if periodos_list[i] in periodo_consumo_dic:\n",
    "        if not isinstance(periodo_consumo_dic[periodos_list[i]], list):\n",
    "            periodo_consumo_dic[periodos_list[i]] = [periodo_consumo_dic[periodos_list[i]]]\n",
    "        periodo_consumo_dic[periodos_list[i]].append(consumos_list[i])\n",
    "    else:\n",
    "        periodo_consumo_dic[periodos_list[i]] = consumos_list[i]\n",
    "\n",
    "#print(type(periodo_consumo_dic[\"P1\"][2]))\n",
    "print(len(periodo_consumo_dic))\n",
    "print(periodos_list)"
   ]
  },
  {
   "cell_type": "code",
   "execution_count": null,
   "metadata": {},
   "outputs": [],
   "source": [
    "int(pd[\"P1\"][2])"
   ]
  },
  {
   "cell_type": "code",
   "execution_count": null,
   "metadata": {},
   "outputs": [],
   "source": []
  },
  {
   "cell_type": "code",
   "execution_count": null,
   "metadata": {},
   "outputs": [],
   "source": [
    "#Vector en el que voy a almacenar los excesos\n",
    "consumos_list = datos['Consumo (kwh)']\n",
    "periodos_list = datos['Periodo']\n",
    "\n",
    "periodos_a = []\n",
    "elementos_a_agregar = datos['Periodo']\n",
    "\n",
    "for elemento in elementos_a_agregar:\n",
    "    if elemento not in periodos_a:\n",
    "        periodos_a.append(elemento)\n",
    "\n",
    "print(periodos_a)"
   ]
  },
  {
   "cell_type": "code",
   "execution_count": null,
   "metadata": {},
   "outputs": [],
   "source": [
    "#Esto seria como si pillase los datos de la pagina web\n",
    "p1 = input(\"Introduce P1: \")\n",
    "p2 = input(\"Introduce P2: \")\n",
    "p3 = input(\"Introduce P3: \")\n",
    "p4 = input(\"Introduce P4: \")\n",
    "p5 = input(\"Introduce P5: \")\n",
    "p6 = input(\"Introduce P6: \")\n",
    "\n",
    "#Los almaceno en el vector de periodos contratados\n",
    "p = [float(p1), float(p2), float(p3), float(p4), float(p5), float(p6)]\n",
    "\n",
    "#Recorro la tabla y compruebo si hay exceso o no\n",
    "for i in range(len(datos)):\n",
    "    periodo_fila = int(datos.loc[i][\"Periodo\"][1:2])\n",
    "    if int(datos.loc[i][\"Consumo (kwh)\"])>p[periodo_fila-1]:\n",
    "        print(\"Exceso: \"+str(int(datos.loc[i][\"Consumo (kwh)\"])-p[periodo_fila-1]))\n",
    "    else:\n",
    "        print(\"No Exceso\")\n",
    "        \n",
    "    #print(consumo)\n",
    "    # Usar la función loc para seleccionar filas basadas en la condición\n",
    "    #filas_seleccionadas = datos.loc[datos['Periodo'] == \"P1\"]\n",
    "    #print(filas_seleccionadas)"
   ]
  },
  {
   "cell_type": "code",
   "execution_count": null,
   "metadata": {},
   "outputs": [],
   "source": [
    "p = [1.0, 2.0, 3.0, 4.0, 5.0, 6.0]\n",
    "a=int(datos.loc[1][\"Periodo\"][1:2])\n",
    "print(a)\n",
    "p[a-1]\n",
    "type(int(datos.loc[i][\"Consumo (kwh)\"]))"
   ]
  },
  {
   "cell_type": "code",
   "execution_count": null,
   "metadata": {},
   "outputs": [],
   "source": [
    "datos.loc[1][\"Periodo\"]==\"P6\"\n",
    "len(datos)"
   ]
  },
  {
   "cell_type": "code",
   "execution_count": null,
   "metadata": {},
   "outputs": [],
   "source": [
    "for i in range (len(datos)):\n",
    "    print(i)"
   ]
  },
  {
   "cell_type": "code",
   "execution_count": null,
   "metadata": {},
   "outputs": [],
   "source": [
    "#PARECE QUE FUNCIONA, OPTIMIZACION DE LA POTENCIA CONTRATADA SOLO DE LA PRIMERA PARTE\n",
    "\n",
    "#pyomo -----\n",
    "\n",
    "import numpy as np\n",
    "from scipy.optimize import minimize\n",
    "import matplotlib.pyplot as plt\n",
    "\n",
    "# Inicialización de valores iniciales para p\n",
    "p_inicial = [164, 164, 164, 164, 164, 451]\n",
    "pd = periodo_consumo_dic  #ARREGLAR PD\n",
    "\n",
    "#Tengo que pillar toda la columna de consumos y agrupar cada uno de los periodos\n",
    "consumos_list = datos['Consumo (kwh)']\n",
    "periodo_list = datos['Periodo']\n",
    "\n",
    "# Definir la función objetivo\n",
    "def funcion_objetivo(p):\n",
    "    parte1 = sum(tarifa6_1[i] * p[i] for i in range(len(p)))\n",
    "    parte2 = sum(5*5*sum((pd[j]-p[i])**2 for j in range(len(pd))) for i in range(len(p)))  #ARREGLAR PD\n",
    "    return parte1 + parte2\n",
    "\n",
    "\n",
    "# Restricciones: p_i >= 0 para cada i\n",
    "restricciones = [\n",
    "    {'type': 'ineq', 'fun': lambda p: p[0]},  #Potencias contratadas mayores que 0\n",
    "    {'type': 'ineq', 'fun': lambda p: p[1]},\n",
    "    {'type': 'ineq', 'fun': lambda p: p[2]},\n",
    "    {'type': 'ineq', 'fun': lambda p: p[3]},\n",
    "    {'type': 'ineq', 'fun': lambda p: p[4]},\n",
    "    {'type': 'ineq', 'fun': lambda p: p[5]},\n",
    "    {'type': 'ineq', 'fun': lambda p: p[0] - p[1]},  #P1<=P2<=P3<=P4<=P5<=P6\n",
    "    {'type': 'ineq', 'fun': lambda p: p[1] - p[2]},\n",
    "    {'type': 'ineq', 'fun': lambda p: p[2] - p[3]},\n",
    "    {'type': 'ineq', 'fun': lambda p: p[3] - p[4]},\n",
    "    {'type': 'ineq', 'fun': lambda p: p[4] - p[5]}\n",
    "]\n",
    "\n",
    "# Resolver el problema de optimización con restricciones\n",
    "resultado = minimize(funcion_objetivo, p_inicial, constraints=restricciones, method='SLSQP')\n",
    "\n",
    "# Mostrar resultados\n",
    "if resultado.success:\n",
    "    valor_optimo = resultado.fun\n",
    "    p_optimo = resultado.x\n",
    "\n",
    "    # Crear un gráfico de barras\n",
    "    plt.figure(figsize=(8, 6))\n",
    "    plt.bar(range(len(p_optimo)), p_optimo, tick_label=[f'p{i+1}' for i in range(len(p_optimo))], alpha=0.7)\n",
    "    plt.xlabel(\"Componente de p\")\n",
    "    plt.ylabel(\"Valor óptimo de p\")\n",
    "    plt.title(f\"Optimización de tarifa: Valor óptimo = {valor_optimo}\")\n",
    "\n",
    "    # Mostrar la figura\n",
    "    plt.show()\n",
    "    \n",
    "    print(\"Estado:\", resultado.success)\n",
    "    print(\"Mensaje:\", resultado.message)\n",
    "    print(\"Valor óptimo:\", resultado.fun)\n",
    "    print(\"Solución:\", resultado.x)\n",
    "else:\n",
    "    print(\"No se pudo encontrar una solución óptima.\")\n"
   ]
  },
  {
   "cell_type": "code",
   "execution_count": null,
   "metadata": {},
   "outputs": [],
   "source": []
  },
  {
   "cell_type": "code",
   "execution_count": null,
   "metadata": {},
   "outputs": [],
   "source": [
    "import numpy as np\n",
    "from scipy.optimize import minimize\n",
    "\n",
    "# Definir una función objetivo que corresponde a la expresión matemática\n",
    "def funcion_objetivo(variables):\n",
    "    t_p_p, p_c_p, k_p, t_ep, p_d_j, p_c_p = variables\n",
    "    resultado = t_p_p * p_c_p + np.sum(k_p * t_ep * np.sqrt(np.sum((p_d_j - p_c_p)**2)))\n",
    "    return resultado\n",
    "\n",
    "# Condiciones iniciales\n",
    "potencias_contratadas = [1.0, 2.0, 3.0, 4.0, 5.0, 6.0]\n",
    "\n",
    "# Resolver el problema de optimización no lineal\n",
    "resultado = minimize(funcion_objetivo, potencias_contratadas, method='BFGS')\n",
    "\n",
    "# Mostrar resultados\n",
    "print(\"Estado:\", resultado.success)\n",
    "print(\"Mensaje:\", resultado.message)\n",
    "print(\"Valor óptimo:\", resultado.fun)\n",
    "print(\"Solución:\", resultado.x)\n"
   ]
  },
  {
   "cell_type": "code",
   "execution_count": null,
   "metadata": {},
   "outputs": [],
   "source": [
    "from scipy.optimize import minimize\n",
    "\n",
    "def funcion_objetivo(x):\n",
    "    return x[0] + x[1]\n",
    "\n",
    "# Restricciones no lineales: x^2 + y^2 - 1 = 0\n",
    "restricciones_no_lineales = ({'type': 'eq', 'fun': lambda x: x[0]**2 + x[1]**2 - 1})\n",
    "\n",
    "resultado = minimize(funcion_objetivo, [0, 0], constraints=restricciones_no_lineales)\n",
    "print(resultado)"
   ]
  },
  {
   "cell_type": "code",
   "execution_count": null,
   "metadata": {},
   "outputs": [],
   "source": []
  },
  {
   "cell_type": "code",
   "execution_count": null,
   "metadata": {},
   "outputs": [],
   "source": [
    "import numpy as np\n",
    "\n",
    "# Crear un array con los valores de t_p y c_p\n",
    "t_p = np.array([1, 2, 3])\n",
    "c_p = np.array([1, 2, 3])\n",
    "\n",
    "# Calcular el sumatorio de (t_p * c_p)\n",
    "resultado = np.sum(t_p * c_p)\n",
    "\n",
    "print(\"Sumatorio:\", resultado)"
   ]
  },
  {
   "cell_type": "code",
   "execution_count": null,
   "metadata": {},
   "outputs": [],
   "source": []
  },
  {
   "cell_type": "code",
   "execution_count": null,
   "metadata": {},
   "outputs": [],
   "source": []
  },
  {
   "cell_type": "code",
   "execution_count": null,
   "metadata": {},
   "outputs": [],
   "source": []
  },
  {
   "cell_type": "code",
   "execution_count": null,
   "metadata": {},
   "outputs": [],
   "source": []
  },
  {
   "cell_type": "code",
   "execution_count": 2,
   "metadata": {},
   "outputs": [
    {
     "name": "stdout",
     "output_type": "stream",
     "text": [
      "Collecting glpk\n",
      "  Using cached https://files.pythonhosted.org/packages/4f/bd/c21af5237109fd4d82e91eb98641d1034fbe7ee7409b0be471bc19c8a766/glpk-0.4.7.tar.gz\n",
      "  Installing build dependencies: started\n",
      "  Installing build dependencies: finished with status 'done'\n",
      "  Getting requirements to build wheel: started\n",
      "  Getting requirements to build wheel: finished with status 'done'\n",
      "    Preparing wheel metadata: started\n",
      "    Preparing wheel metadata: finished with status 'done'\n",
      "Building wheels for collected packages: glpk\n",
      "  Building wheel for glpk (PEP 517): started\n",
      "  Building wheel for glpk (PEP 517): finished with status 'error'\n",
      "  Running setup.py clean for glpk\n",
      "Failed to build glpk\n",
      "Note: you may need to restart the kernel to use updated packages.\n"
     ]
    },
    {
     "name": "stderr",
     "output_type": "stream",
     "text": [
      "  ERROR: Complete output from command 'C:\\Users\\migue\\Anaconda3\\python.exe' 'C:\\Users\\migue\\Anaconda3\\lib\\site-packages\\pip\\_vendor\\pep517\\_in_process.py' build_wheel 'C:\\Users\\migue\\AppData\\Local\\Temp\\tmpa2owm9oj':\n",
      "  ERROR: running bdist_wheel\n",
      "  running build\n",
      "  running build_ext\n",
      "  building 'glpk' extension\n",
      "  creating build\n",
      "  creating build\\temp.win-amd64-cpython-37\n",
      "  creating build\\temp.win-amd64-cpython-37\\Release\n",
      "  creating build\\temp.win-amd64-cpython-37\\Release\\src\n",
      "  \"C:\\Program Files (x86)\\Microsoft Visual Studio\\2019\\BuildTools\\VC\\Tools\\MSVC\\14.29.30133\\bin\\HostX86\\x64\\cl.exe\" /c /nologo /O2 /W3 /GL /DNDEBUG /MD -DVERSION_NUMBER=\\\"\\\\\\\"0.4.7\\\\\\\"\\\" -IC:\\Users\\migue\\Anaconda3\\include -IC:\\Users\\migue\\Anaconda3\\Include \"-IC:\\Program Files (x86)\\Microsoft Visual Studio\\2019\\BuildTools\\VC\\Tools\\MSVC\\14.29.30133\\include\" \"-IC:\\Program Files (x86)\\Windows Kits\\10\\include\\10.0.19041.0\\ucrt\" \"-IC:\\Program Files (x86)\\Windows Kits\\10\\include\\10.0.19041.0\\shared\" \"-IC:\\Program Files (x86)\\Windows Kits\\10\\include\\10.0.19041.0\\um\" \"-IC:\\Program Files (x86)\\Windows Kits\\10\\include\\10.0.19041.0\\winrt\" \"-IC:\\Program Files (x86)\\Windows Kits\\10\\include\\10.0.19041.0\\cppwinrt\" /Tcsrc\\2to3.c /Fobuild\\temp.win-amd64-cpython-37\\Release\\src\\2to3.obj\n",
      "  2to3.c\n",
      "  \"C:\\Program Files (x86)\\Microsoft Visual Studio\\2019\\BuildTools\\VC\\Tools\\MSVC\\14.29.30133\\bin\\HostX86\\x64\\cl.exe\" /c /nologo /O2 /W3 /GL /DNDEBUG /MD -DVERSION_NUMBER=\\\"\\\\\\\"0.4.7\\\\\\\"\\\" -IC:\\Users\\migue\\Anaconda3\\include -IC:\\Users\\migue\\Anaconda3\\Include \"-IC:\\Program Files (x86)\\Microsoft Visual Studio\\2019\\BuildTools\\VC\\Tools\\MSVC\\14.29.30133\\include\" \"-IC:\\Program Files (x86)\\Windows Kits\\10\\include\\10.0.19041.0\\ucrt\" \"-IC:\\Program Files (x86)\\Windows Kits\\10\\include\\10.0.19041.0\\shared\" \"-IC:\\Program Files (x86)\\Windows Kits\\10\\include\\10.0.19041.0\\um\" \"-IC:\\Program Files (x86)\\Windows Kits\\10\\include\\10.0.19041.0\\winrt\" \"-IC:\\Program Files (x86)\\Windows Kits\\10\\include\\10.0.19041.0\\cppwinrt\" /Tcsrc\\bar.c /Fobuild\\temp.win-amd64-cpython-37\\Release\\src\\bar.obj\n",
      "  bar.c\n",
      "  C:\\Users\\migue\\AppData\\Local\\Temp\\pip-install-48i7uz33\\glpk\\src\\lp.h(24): fatal error C1083: No se puede abrir el archivo incluir: 'glpk.h': No such file or directory\n",
      "  error: command 'C:\\\\Program Files (x86)\\\\Microsoft Visual Studio\\\\2019\\\\BuildTools\\\\VC\\\\Tools\\\\MSVC\\\\14.29.30133\\\\bin\\\\HostX86\\\\x64\\\\cl.exe' failed with exit code 2\n",
      "  ----------------------------------------\n",
      "  ERROR: Failed building wheel for glpk\n",
      "ERROR: Could not build wheels for glpk which use PEP 517 and cannot be installed directly\n"
     ]
    }
   ],
   "source": [
    "pip install glpk"
   ]
  },
  {
   "cell_type": "code",
   "execution_count": 1,
   "metadata": {},
   "outputs": [
    {
     "name": "stdout",
     "output_type": "stream",
     "text": [
      "WARNING: Could not locate the 'glpsol' executable, which is required for\n",
      "solver 'glpk'\n"
     ]
    },
    {
     "ename": "ApplicationError",
     "evalue": "No executable found for solver 'glpk'",
     "output_type": "error",
     "traceback": [
      "\u001b[1;31m---------------------------------------------------------------------------\u001b[0m",
      "\u001b[1;31mApplicationError\u001b[0m                          Traceback (most recent call last)",
      "\u001b[1;32m<ipython-input-1-b82c17c8c245>\u001b[0m in \u001b[0;36m<module>\u001b[1;34m\u001b[0m\n\u001b[0;32m     12\u001b[0m expr = sum( w[i]*model.x[i] for i in A) <= W_max )\n\u001b[0;32m     13\u001b[0m \u001b[0mopt\u001b[0m \u001b[1;33m=\u001b[0m \u001b[0mSolverFactory\u001b[0m\u001b[1;33m(\u001b[0m\u001b[1;34m'glpk'\u001b[0m\u001b[1;33m)\u001b[0m\u001b[1;33m\u001b[0m\u001b[1;33m\u001b[0m\u001b[0m\n\u001b[1;32m---> 14\u001b[1;33m \u001b[0mresult_obj\u001b[0m \u001b[1;33m=\u001b[0m \u001b[0mopt\u001b[0m\u001b[1;33m.\u001b[0m\u001b[0msolve\u001b[0m\u001b[1;33m(\u001b[0m\u001b[0mmodel\u001b[0m\u001b[1;33m,\u001b[0m \u001b[0mtee\u001b[0m\u001b[1;33m=\u001b[0m\u001b[1;32mTrue\u001b[0m\u001b[1;33m)\u001b[0m\u001b[1;33m\u001b[0m\u001b[1;33m\u001b[0m\u001b[0m\n\u001b[0m\u001b[0;32m     15\u001b[0m \u001b[0mmodel\u001b[0m\u001b[1;33m.\u001b[0m\u001b[0mpprint\u001b[0m\u001b[1;33m(\u001b[0m\u001b[1;33m)\u001b[0m\u001b[1;33m\u001b[0m\u001b[1;33m\u001b[0m\u001b[0m\n",
      "\u001b[1;32m~\\Anaconda3\\lib\\site-packages\\pyomo\\opt\\base\\solvers.py\u001b[0m in \u001b[0;36msolve\u001b[1;34m(self, *args, **kwds)\u001b[0m\n\u001b[0;32m    531\u001b[0m         \u001b[1;34m\"\"\"Solve the problem\"\"\"\u001b[0m\u001b[1;33m\u001b[0m\u001b[1;33m\u001b[0m\u001b[0m\n\u001b[0;32m    532\u001b[0m \u001b[1;33m\u001b[0m\u001b[0m\n\u001b[1;32m--> 533\u001b[1;33m         \u001b[0mself\u001b[0m\u001b[1;33m.\u001b[0m\u001b[0mavailable\u001b[0m\u001b[1;33m(\u001b[0m\u001b[0mexception_flag\u001b[0m\u001b[1;33m=\u001b[0m\u001b[1;32mTrue\u001b[0m\u001b[1;33m)\u001b[0m\u001b[1;33m\u001b[0m\u001b[1;33m\u001b[0m\u001b[0m\n\u001b[0m\u001b[0;32m    534\u001b[0m         \u001b[1;31m#\u001b[0m\u001b[1;33m\u001b[0m\u001b[1;33m\u001b[0m\u001b[1;33m\u001b[0m\u001b[0m\n\u001b[0;32m    535\u001b[0m         \u001b[1;31m# If the inputs are models, then validate that they have been\u001b[0m\u001b[1;33m\u001b[0m\u001b[1;33m\u001b[0m\u001b[1;33m\u001b[0m\u001b[0m\n",
      "\u001b[1;32m~\\Anaconda3\\lib\\site-packages\\pyomo\\opt\\solver\\shellcmd.py\u001b[0m in \u001b[0;36mavailable\u001b[1;34m(self, exception_flag)\u001b[0m\n\u001b[0;32m    139\u001b[0m             \u001b[1;32mif\u001b[0m \u001b[0mexception_flag\u001b[0m\u001b[1;33m:\u001b[0m\u001b[1;33m\u001b[0m\u001b[1;33m\u001b[0m\u001b[0m\n\u001b[0;32m    140\u001b[0m                 \u001b[0mmsg\u001b[0m \u001b[1;33m=\u001b[0m \u001b[1;34m\"No executable found for solver '%s'\"\u001b[0m\u001b[1;33m\u001b[0m\u001b[1;33m\u001b[0m\u001b[0m\n\u001b[1;32m--> 141\u001b[1;33m                 \u001b[1;32mraise\u001b[0m \u001b[0mApplicationError\u001b[0m\u001b[1;33m(\u001b[0m\u001b[0mmsg\u001b[0m \u001b[1;33m%\u001b[0m \u001b[0mself\u001b[0m\u001b[1;33m.\u001b[0m\u001b[0mname\u001b[0m\u001b[1;33m)\u001b[0m\u001b[1;33m\u001b[0m\u001b[1;33m\u001b[0m\u001b[0m\n\u001b[0m\u001b[0;32m    142\u001b[0m             \u001b[1;32mreturn\u001b[0m \u001b[1;32mFalse\u001b[0m\u001b[1;33m\u001b[0m\u001b[1;33m\u001b[0m\u001b[0m\n\u001b[0;32m    143\u001b[0m         \u001b[1;32mreturn\u001b[0m \u001b[1;32mTrue\u001b[0m\u001b[1;33m\u001b[0m\u001b[1;33m\u001b[0m\u001b[0m\n",
      "\u001b[1;31mApplicationError\u001b[0m: No executable found for solver 'glpk'"
     ]
    }
   ],
   "source": [
    "from pyomo.environ import *\n",
    "A = ['hammer', 'wrench', 'screwdriver', 'towel']\n",
    "b = {'hammer':8, 'wrench':3, 'screwdriver':6, 'towel':11}\n",
    "w = {'hammer':5, 'wrench':7, 'screwdriver':4, 'towel':3}\n",
    "W_max = 14\n",
    "model = ConcreteModel()\n",
    "model.x = Var( A, within=Binary )\n",
    "model.value = Objective(\n",
    "expr = sum( b[i]*model.x[i] for i in A),\n",
    "sense = maximize )\n",
    "model.weight = Constraint(\n",
    "expr = sum( w[i]*model.x[i] for i in A) <= W_max )\n",
    "opt = SolverFactory('glpk')\n",
    "result_obj = opt.solve(model, tee=True)\n",
    "model.pprint()"
   ]
  },
  {
   "cell_type": "code",
   "execution_count": null,
   "metadata": {},
   "outputs": [],
   "source": []
  }
 ],
 "metadata": {
  "kernelspec": {
   "display_name": "Python 3",
   "language": "python",
   "name": "python3"
  },
  "language_info": {
   "codemirror_mode": {
    "name": "ipython",
    "version": 3
   },
   "file_extension": ".py",
   "mimetype": "text/x-python",
   "name": "python",
   "nbconvert_exporter": "python",
   "pygments_lexer": "ipython3",
   "version": "3.7.3"
  }
 },
 "nbformat": 4,
 "nbformat_minor": 2
}
