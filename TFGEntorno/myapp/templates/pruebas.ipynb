{
 "cells": [
  {
   "cell_type": "code",
   "execution_count": 4,
   "metadata": {},
   "outputs": [
    {
     "name": "stdout",
     "output_type": "stream",
     "text": [
      "Archivo JSON creado exitosamente: datos.json\n",
      "[{'accion': 'accion_1', 'cantidad': 10, 'inicio_intervalo': 'inicio_1', 'final_intervalo': 'final_1', 'dias': 5, 'inicio_hora': 'hora_inicio_1', 'final_hora': 'hora_final_1'}, {'accion': 'accion_2', 'cantidad': 20, 'inicio_intervalo': 'inicio_2', 'final_intervalo': 'final_2', 'dias': 7, 'inicio_hora': 'hora_inicio_2', 'final_hora': 'hora_final_2'}, {'accion': 'accion_3', 'cantidad': 30, 'origen_inicio_intervalo': 'inicio_origen_3', 'origen_final_intervalo': 'final_origen_3', 'origen_dias': 3, 'origen_inicio_hora': 'hora_inicio_origen_3', 'origen_final_hora': 'hora_final_origen_3', 'destino_inicio_intervalo': 'inicio_destino_3', 'destino_final_intervalo': 'final_destino_3', 'destino_dias': 4, 'destino_inicio_hora': 'hora_inicio_destino_3', 'destino_final_hora': 'hora_final_destino_3'}, {'accion': 'accion_4', 'cantidad': 40, 'origen_inicio_intervalo': 'inicio_origen_4', 'origen_final_intervalo': 'final_origen_4', 'origen_dias': 2, 'origen_inicio_hora': 'hora_inicio_origen_4', 'origen_final_hora': 'hora_final_origen_4', 'destino_inicio_intervalo': 'inicio_destino_4', 'destino_final_intervalo': 'final_destino_4', 'destino_dias': 6, 'destino_inicio_hora': 'hora_inicio_destino_4', 'destino_final_hora': 'hora_final_destino_4'}, {'accion': 'accion_5', 'estimacion': 'estimacion_1', 'valor': 100}, {'accion': 'accion_6', 'estimacion': 'estimacion_2', 'valor': 200}]\n"
     ]
    }
   ],
   "source": [
    "import json\n",
    "\n",
    "# Datos para las tres posibilidades\n",
    "datos_posibilidad_1 = [\n",
    "    {\"accion\": \"accion_1\", \"cantidad\": 10, \"inicio_intervalo\": \"inicio_1\", \"final_intervalo\": \"final_1\", \"dias\": 5, \"inicio_hora\": \"hora_inicio_1\", \"final_hora\": \"hora_final_1\"},\n",
    "    {\"accion\": \"accion_2\", \"cantidad\": 20, \"inicio_intervalo\": \"inicio_2\", \"final_intervalo\": \"final_2\", \"dias\": 7, \"inicio_hora\": \"hora_inicio_2\", \"final_hora\": \"hora_final_2\"}\n",
    "]\n",
    "\n",
    "datos_posibilidad_2 = [\n",
    "    {\"accion\": \"accion_3\", \"cantidad\": 30, \"origen_inicio_intervalo\": \"inicio_origen_3\", \"origen_final_intervalo\": \"final_origen_3\", \"origen_dias\": 3, \"origen_inicio_hora\": \"hora_inicio_origen_3\", \"origen_final_hora\": \"hora_final_origen_3\", \"destino_inicio_intervalo\": \"inicio_destino_3\", \"destino_final_intervalo\": \"final_destino_3\", \"destino_dias\": 4, \"destino_inicio_hora\": \"hora_inicio_destino_3\", \"destino_final_hora\": \"hora_final_destino_3\"},\n",
    "    {\"accion\": \"accion_4\", \"cantidad\": 40, \"origen_inicio_intervalo\": \"inicio_origen_4\", \"origen_final_intervalo\": \"final_origen_4\", \"origen_dias\": 2, \"origen_inicio_hora\": \"hora_inicio_origen_4\", \"origen_final_hora\": \"hora_final_origen_4\", \"destino_inicio_intervalo\": \"inicio_destino_4\", \"destino_final_intervalo\": \"final_destino_4\", \"destino_dias\": 6, \"destino_inicio_hora\": \"hora_inicio_destino_4\", \"destino_final_hora\": \"hora_final_destino_4\"}\n",
    "]\n",
    "\n",
    "datos_posibilidad_3 = [\n",
    "    {\"accion\": \"accion_5\", \"estimacion\": \"estimacion_1\", \"valor\": 100},\n",
    "    {\"accion\": \"accion_6\", \"estimacion\": \"estimacion_2\", \"valor\": 200}\n",
    "]\n",
    "\n",
    "# Combinar todos los datos en una lista\n",
    "todos_los_datos = datos_posibilidad_1 + datos_posibilidad_2 + datos_posibilidad_3\n",
    "\n",
    "# Guardar datos en un archivo JSON\n",
    "nombre_archivo_json = \"datos.json\"\n",
    "with open(nombre_archivo_json, \"w\") as archivo_json:\n",
    "    json.dump(todos_los_datos, archivo_json, indent=4)\n",
    "\n",
    "print(\"Archivo JSON creado exitosamente:\", nombre_archivo_json)\n",
    "\n",
    "# Cargar datos desde el archivo JSON\n",
    "with open(nombre_archivo_json, \"r\") as archivo_json:\n",
    "    datos_cargados = json.load(archivo_json)\n",
    "\n",
    "print(datos_cargados)\n"
   ]
  },
  {
   "cell_type": "code",
   "execution_count": null,
   "metadata": {},
   "outputs": [],
   "source": []
  }
 ],
 "metadata": {
  "kernelspec": {
   "display_name": "env",
   "language": "python",
   "name": "python3"
  },
  "language_info": {
   "codemirror_mode": {
    "name": "ipython",
    "version": 3
   },
   "file_extension": ".py",
   "mimetype": "text/x-python",
   "name": "python",
   "nbconvert_exporter": "python",
   "pygments_lexer": "ipython3",
   "version": "3.12.0"
  }
 },
 "nbformat": 4,
 "nbformat_minor": 2
}
